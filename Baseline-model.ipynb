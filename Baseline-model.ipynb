{
 "cells": [
  {
   "cell_type": "code",
   "execution_count": 37,
   "id": "70adc513",
   "metadata": {
    "tags": []
   },
   "outputs": [],
   "source": [
    "import pandas as pd\n",
    "import nltk\n",
    "import numpy as np\n",
    "import matplotlib.pyplot as plt\n",
    "from nltk.corpus import stopwords\n"
   ]
  },
  {
   "cell_type": "code",
   "execution_count": 38,
   "id": "88dd91a4-32b3-4e75-94dc-49f7c94466e1",
   "metadata": {
    "tags": []
   },
   "outputs": [],
   "source": [
    "df = pd.read_excel('code-review-data.xlsx')\n",
    "df.loc[df[\"Sentiment\"] == \"pass\", \"Sentiment\"] = 'Pass'"
   ]
  },
  {
   "cell_type": "code",
   "execution_count": 39,
   "id": "089af4db-d927-4392-9084-5eb70d62764d",
   "metadata": {
    "tags": []
   },
   "outputs": [],
   "source": [
    "data = df[['Review','Sentiment']]"
   ]
  },
  {
   "cell_type": "code",
   "execution_count": 40,
   "id": "999b083b",
   "metadata": {
    "tags": []
   },
   "outputs": [
    {
     "name": "stderr",
     "output_type": "stream",
     "text": [
      "C:\\Users\\HN464GK\\AppData\\Local\\Temp\\ipykernel_14420\\2638319171.py:1: SettingWithCopyWarning: \n",
      "A value is trying to be set on a copy of a slice from a DataFrame.\n",
      "Try using .loc[row_indexer,col_indexer] = value instead\n",
      "\n",
      "See the caveats in the documentation: https://pandas.pydata.org/pandas-docs/stable/user_guide/indexing.html#returning-a-view-versus-a-copy\n",
      "  data['Sentiment']=data['Sentiment'].map({'Fail':0,'Pass':1})\n"
     ]
    }
   ],
   "source": [
    "data['Sentiment']=data['Sentiment'].map({'Fail':0,'Pass':1})"
   ]
  },
  {
   "cell_type": "code",
   "execution_count": 41,
   "id": "eced06c8-ec51-41b8-9df0-9daf423bdb6f",
   "metadata": {
    "tags": []
   },
   "outputs": [],
   "source": [
    "def concat_reviews(my_string):\n",
    "    review_list = my_string.splitlines()[0:10]\n",
    "    while '' in review_list:\n",
    "        review_list.remove('')\n",
    "    review_list = ' '.join(review_list)\n",
    "    return review_list"
   ]
  },
  {
   "cell_type": "code",
   "execution_count": 42,
   "id": "dd04e5c4-629b-41f7-8638-670059d416e7",
   "metadata": {
    "tags": []
   },
   "outputs": [
    {
     "name": "stderr",
     "output_type": "stream",
     "text": [
      "C:\\Users\\HN464GK\\AppData\\Local\\Temp\\ipykernel_14420\\2014086995.py:1: SettingWithCopyWarning: \n",
      "A value is trying to be set on a copy of a slice from a DataFrame.\n",
      "Try using .loc[row_indexer,col_indexer] = value instead\n",
      "\n",
      "See the caveats in the documentation: https://pandas.pydata.org/pandas-docs/stable/user_guide/indexing.html#returning-a-view-versus-a-copy\n",
      "  data['Review'] = data['Review'].apply(concat_reviews)\n"
     ]
    }
   ],
   "source": [
    "data['Review'] = data['Review'].apply(concat_reviews)"
   ]
  },
  {
   "cell_type": "code",
   "execution_count": 43,
   "id": "bf2e29ed-5286-486d-8d9c-795ce3e438f2",
   "metadata": {
    "tags": []
   },
   "outputs": [
    {
     "data": {
      "text/plain": [
       "Sentiment\n",
       "0    64\n",
       "1    37\n",
       "Name: count, dtype: int64"
      ]
     },
     "execution_count": 43,
     "metadata": {},
     "output_type": "execute_result"
    }
   ],
   "source": [
    "data['Sentiment'].value_counts()    "
   ]
  },
  {
   "cell_type": "code",
   "execution_count": 44,
   "id": "8fc9df9e-6176-43a0-a1e0-52371011c9ec",
   "metadata": {
    "tags": []
   },
   "outputs": [],
   "source": [
    "X = data.drop(['Sentiment'],axis=1)\n",
    "y = data['Sentiment']"
   ]
  },
  {
   "cell_type": "code",
   "execution_count": 45,
   "id": "ad5ef30d-2eed-4603-96d2-35ba7ce0e25f",
   "metadata": {
    "tags": []
   },
   "outputs": [
    {
     "data": {
      "text/plain": [
       "((101, 1), (101,))"
      ]
     },
     "execution_count": 45,
     "metadata": {},
     "output_type": "execute_result"
    }
   ],
   "source": [
    "X.shape,y.shape"
   ]
  },
  {
   "cell_type": "code",
   "execution_count": 46,
   "id": "e19e2460",
   "metadata": {
    "tags": []
   },
   "outputs": [
    {
     "data": {
      "text/plain": [
       "<Axes: xlabel='Sentiment', ylabel='Count'>"
      ]
     },
     "execution_count": 46,
     "metadata": {},
     "output_type": "execute_result"
    },
    {
     "data": {
      "image/png": "[encoded data removed]",
      "text/plain": [
       "<Figure size 640x480 with 1 Axes>"
      ]
     },
     "metadata": {},
     "output_type": "display_data"
    }
   ],
   "source": [
    "import seaborn as sns\n",
    "sns.histplot(y)"
   ]
  },
  {
   "cell_type": "code",
   "execution_count": 47,
   "id": "437b3582",
   "metadata": {
    "tags": []
   },
   "outputs": [
    {
     "name": "stdout",
     "output_type": "stream",
     "text": [
      "List of stopwords:\n",
      "{'other', \"doesn't\", 'he', 'm', 'herself', 'yours', 'who', 'nor', 'yourselves', 'aren', 'against', 'any', 'what', 'being', 'those', 'up', 'over', 'will', 'are', \"haven't\", 'until', 'ourselves', 'from', \"aren't\", 'his', \"wasn't\", 'below', 'when', 'here', \"you'll\", 'wouldn', 't', 'some', 'all', 'won', 'hadn', 'it', 'i', 'out', 'whom', 'mustn', 'by', 'needn', 'were', 'haven', 'so', 'each', 'no', 'was', 'if', \"should've\", 'ours', 'didn', 'than', \"needn't\", 'while', 'its', 'because', 'they', 'and', 'o', \"weren't\", 'about', \"hasn't\", 'be', 'very', 'more', \"shouldn't\", 'at', \"won't\", 'do', 'a', 'doing', 'she', 'you', 'him', 'hers', 'through', \"you're\", 'me', 'which', 'in', 'own', 're', \"hadn't\", \"it's\", 'how', 'that', 'themselves', \"she's\", 'did', 'should', 'to', 'above', 'there', 'does', 'can', 'off', 'during', 'yourself', 'them', 'again', 'for', 'don', 'between', 'our', 'himself', \"don't\", 'where', \"mustn't\", 'before', 'hasn', 'shouldn', \"that'll\", 'been', 'as', 'of', 'then', 'not', 'her', 'your', 'isn', 's', 'after', 'we', 'few', \"you've\", 'wasn', 'just', 'the', \"mightn't\", 'most', \"didn't\", 'with', \"wouldn't\", 'll', 'y', 'this', 'having', 'into', 'too', 'now', 'an', 've', \"shan't\", 'only', 'doesn', 'have', 'mightn', 'theirs', 'why', 'ain', 'under', 'couldn', \"couldn't\", 'their', 'has', 'but', 'these', 'is', 'such', 'both', \"isn't\", 'further', 'd', 'same', 'my', 'on', 'ma', 'myself', 'or', 'had', 'once', 'weren', 'down', 'itself', 'am', \"you'd\", 'shan'}\n",
      "\n",
      "Final list of stopwords:\n",
      "{'other', 'he', 'm', 'herself', 'yours', 'who', 'nor', 'yourselves', 'against', 'any', 'what', 'being', 'those', 'up', 'over', 'will', 'are', 'until', 'ourselves', 'from', 'his', 'below', 'when', 'here', \"you'll\", 't', 'some', 'all', 'won', 'it', 'i', 'out', 'whom', 'by', 'were', 'so', 'each', 'no', 'was', 'if', \"should've\", 'ours', 'than', 'while', 'its', 'because', 'they', 'and', 'o', 'about', 'be', 'very', 'more', 'at', 'do', 'a', 'doing', 'she', 'you', 'him', 'hers', 'through', \"you're\", 'me', 'which', 'in', 'own', 're', \"it's\", 'how', 'that', 'themselves', \"she's\", 'did', 'should', 'to', 'above', 'there', 'does', 'can', 'off', 'during', 'yourself', 'them', 'again', 'for', 'between', 'our', 'himself', 'where', 'before', \"that'll\", 'been', 'as', 'of', 'then', 'her', 'your', 's', 'after', 'we', 'few', \"you've\", 'just', 'the', 'most', 'with', 'll', 'y', 'this', 'having', 'into', 'too', 'now', 'an', 've', 'only', 'have', 'theirs', 'why', 'under', 'their', 'has', 'but', 'these', 'is', 'such', 'both', 'further', 'd', 'same', 'my', 'on', 'myself', 'or', 'had', 'once', 'down', 'itself', 'am', \"you'd\"}\n"
     ]
    }
   ],
   "source": [
    "stopwords_list = set(stopwords.words(\"english\"))\n",
    "print(f'List of stopwords:\\n{stopwords_list}\\n')\n",
    "\n",
    "# We remove negation words in list of stopwords\n",
    "no_stopwords = [\"not\",\"don't\",'aren','don','ain',\"aren't\", 'couldn', \"couldn't\", 'didn', \"didn't\", 'doesn', \"doesn't\", 'hadn', \"hadn't\", 'hasn', \"hasn't\", 'haven', \"haven't\", 'isn', \"isn't\",\n",
    "               'ma', 'mightn', \"mightn't\", 'mustn', \"mustn't\", 'needn', \"needn't\", 'shan', \"shan't\", 'shouldn', \"shouldn't\", 'wasn', \"wasn't\", 'weren', \"weren't\",\n",
    "               \"won't\", 'wouldn', \"wouldn't\"]\n",
    "for no_stopword in no_stopwords:\n",
    "    stopwords_list.remove(no_stopword)\n",
    "    \n",
    "#print(stopwords_list)\n",
    "print(f'Final list of stopwords:\\n{stopwords_list}')"
   ]
  },
  {
   "cell_type": "code",
   "execution_count": 48,
   "id": "4055b9d1",
   "metadata": {
    "tags": []
   },
   "outputs": [
    {
     "name": "stdout",
     "output_type": "stream",
     "text": [
      "The word \"feet\" is transformed to \"foot\"\n"
     ]
    }
   ],
   "source": [
    "# Import Lemmatizer from NLTK\n",
    "from nltk.stem import WordNetLemmatizer\n",
    "\n",
    "lemmatizer = WordNetLemmatizer()\n",
    "\n",
    "# function that receive a list of words and do lemmatization:\n",
    "def lemma_stem_text(words_list):\n",
    "    # Lemmatizer\n",
    "    text = [lemmatizer.lemmatize(token.lower()) for token in words_list]# eighties->eight or messages->message or drugs->drug\n",
    "    text = [lemmatizer.lemmatize(token.lower(), \"v\") for token in text]# going-> go or started->start or watching->watch\n",
    "    return text\n",
    "\n",
    "word_example = \"feet\"\n",
    "print(f'The word \"{word_example}\" is transformed to \"{lemma_stem_text([word_example])[0]}\"')"
   ]
  },
  {
   "cell_type": "code",
   "execution_count": 49,
   "id": "579d063d",
   "metadata": {
    "tags": []
   },
   "outputs": [
    {
     "name": "stdout",
     "output_type": "stream",
     "text": [
      "The sentence \"I aren't \" is transformed to \"I are not \"\n"
     ]
    }
   ],
   "source": [
    "import re\n",
    "re_negation = re.compile(\"n't \")\n",
    "\n",
    "# function that receive a sequence of woords and return the same sequence transforming\n",
    "# abbreviated negations to the standard form.\n",
    "def negation_abbreviated_to_standard(sent):\n",
    "    sent = re_negation.sub(\" not \", sent)\n",
    "    return sent\n",
    "\n",
    "word_example = \"I aren't \"\n",
    "print(f'The sentence \"{word_example}\" is transformed to \"{negation_abbreviated_to_standard(word_example)}\"')"
   ]
  },
  {
   "cell_type": "code",
   "execution_count": 50,
   "id": "6c277f10",
   "metadata": {
    "tags": []
   },
   "outputs": [],
   "source": [
    "def review_to_words(raw_review):\n",
    "    \n",
    "    \n",
    "    # 2. Transform abbreviated negations to the standard form.\n",
    "    review_text = negation_abbreviated_to_standard(raw_review)\n",
    "    \n",
    "    # 3. Remove non-letters and non-numbers   \n",
    "    letters_numbers_only = re.sub(\"[^a-zA-Z_0-9]\", \" \", review_text) \n",
    "    \n",
    "    # 4. Convert to lower case and split into individual words (tokenization)\n",
    "    words = np.char.lower(letters_numbers_only.split())                             \n",
    "    \n",
    "    # 5. Remove stop words\n",
    "    meaningful_words = [w for w in words if not w in stopwords_list]   \n",
    "    \n",
    "    # 6. Apply lemmatization function\n",
    "    lemma_words = lemma_stem_text(meaningful_words)\n",
    "    \n",
    "    # 7. Join the words back into one string separated by space, and return the result.\n",
    "    return( \" \".join(lemma_words))   "
   ]
  },
  {
   "cell_type": "code",
   "execution_count": 51,
   "id": "d15ec638",
   "metadata": {
    "tags": []
   },
   "outputs": [
    {
     "name": "stdout",
     "output_type": "stream",
     "text": [
      "Text of original review:\n",
      "Overall, the code seems to be sorting an integer array in ascending order using a simple bubble sort algorithm. Here are some specific comments and suggestions: The code is missing proper comments that can help other developers understand what it does. Consider adding comments that explain the purpose of the code and the various variables and logic. The temp variable should be declared inside the inner loop, as it is only used there. This can help reduce unnecessary memory usage. Instead of using <= in the outer loop, it is better to use < to make the loop run only up to the second-to-last element in the array. This can help avoid potential index out of range errors. It is generally better to use var instead of explicitly declaring the loop variable types when iterating over a collection, as this can make the code more concise and easier to read.\n",
      "\n",
      "Sentiment review: 0\n",
      "\n",
      "Text of cleaned review:\n",
      "overall code seem sort integer array ascend order use simple bubble sort algorithm specific comment suggestion code miss proper comment help developer understand consider add comment explain purpose code various variable logic temp variable declare inside inner loop use help reduce unnecessary memory usage instead use outer loop better use make loop run second last element array help avoid potential index range error generally better use var instead explicitly declare loop variable type iterate collection make code concise easier read\n"
     ]
    }
   ],
   "source": [
    "# Clean first review\n",
    "clean_review = review_to_words(X[\"Review\"][0] )\n",
    "\n",
    "# Print original review, sentiment and cleaned review\n",
    "print(f'Text of original review:\\n{X[\"Review\"][0]}\\n')\n",
    "print(f'Sentiment review: {y[0]}\\n')\n",
    "print(f'Text of cleaned review:\\n{clean_review}') "
   ]
  },
  {
   "cell_type": "code",
   "execution_count": 52,
   "id": "58a94e0e",
   "metadata": {
    "tags": []
   },
   "outputs": [],
   "source": [
    "# We get the text of reviews in the training set\n",
    "reviews = X['Review']\n",
    "\n",
    "# We initialize an empty list to add the clean reviews\n",
    "cleaned_train_reviews = []\n",
    "\n",
    "# We loop over each review and clean it  \n",
    "for i in reviews:\n",
    "    cleaned_train_reviews.append(review_to_words(i))"
   ]
  },
  {
   "cell_type": "code",
   "execution_count": 53,
   "id": "1c16e1d4",
   "metadata": {
    "tags": []
   },
   "outputs": [
    {
     "data": {
      "text/plain": [
       "(101, 5579)"
      ]
     },
     "execution_count": 53,
     "metadata": {},
     "output_type": "execute_result"
    }
   ],
   "source": [
    "# Import tf-idf encoding from sklearn library\n",
    "from sklearn.feature_extraction.text import TfidfVectorizer\n",
    "\n",
    "# Define some hiperparameters of encoded\n",
    "vectorizer = TfidfVectorizer(max_features=20000, ngram_range = (1,2))\n",
    "\n",
    "# Create the training set with the words encoded as features of the reviews\n",
    "train_data_features = vectorizer.fit_transform(cleaned_train_reviews)\n",
    "\n",
    "pickle.dump(vectorizer, open('tfidf.pkl','wb'))\n",
    "train_data_features.shape"
   ]
  },
  {
   "cell_type": "code",
   "execution_count": 54,
   "id": "b6e7d98a",
   "metadata": {
    "tags": []
   },
   "outputs": [
    {
     "data": {
      "text/html": [
       "<style>#sk-container-id-2 {color: black;background-color: white;}#sk-container-id-2 pre{padding: 0;}#sk-container-id-2 div.sk-toggleable {background-color: white;}#sk-container-id-2 label.sk-toggleable__label {cursor: pointer;display: block;width: 100%;margin-bottom: 0;padding: 0.3em;box-sizing: border-box;text-align: center;}#sk-container-id-2 label.sk-toggleable__label-arrow:before {content: \"▸\";float: left;margin-right: 0.25em;color: #696969;}#sk-container-id-2 label.sk-toggleable__label-arrow:hover:before {color: black;}#sk-container-id-2 div.sk-estimator:hover label.sk-toggleable__label-arrow:before {color: black;}#sk-container-id-2 div.sk-toggleable__content {max-height: 0;max-width: 0;overflow: hidden;text-align: left;background-color: #f0f8ff;}#sk-container-id-2 div.sk-toggleable__content pre {margin: 0.2em;color: black;border-radius: 0.25em;background-color: #f0f8ff;}#sk-container-id-2 input.sk-toggleable__control:checked~div.sk-toggleable__content {max-height: 200px;max-width: 100%;overflow: auto;}#sk-container-id-2 input.sk-toggleable__control:checked~label.sk-toggleable__label-arrow:before {content: \"▾\";}#sk-container-id-2 div.sk-estimator input.sk-toggleable__control:checked~label.sk-toggleable__label {background-color: #d4ebff;}#sk-container-id-2 div.sk-label input.sk-toggleable__control:checked~label.sk-toggleable__label {background-color: #d4ebff;}#sk-container-id-2 input.sk-hidden--visually {border: 0;clip: rect(1px 1px 1px 1px);clip: rect(1px, 1px, 1px, 1px);height: 1px;margin: -1px;overflow: hidden;padding: 0;position: absolute;width: 1px;}#sk-container-id-2 div.sk-estimator {font-family: monospace;background-color: #f0f8ff;border: 1px dotted black;border-radius: 0.25em;box-sizing: border-box;margin-bottom: 0.5em;}#sk-container-id-2 div.sk-estimator:hover {background-color: #d4ebff;}#sk-container-id-2 div.sk-parallel-item::after {content: \"\";width: 100%;border-bottom: 1px solid gray;flex-grow: 1;}#sk-container-id-2 div.sk-label:hover label.sk-toggleable__label {background-color: #d4ebff;}#sk-container-id-2 div.sk-serial::before {content: \"\";position: absolute;border-left: 1px solid gray;box-sizing: border-box;top: 0;bottom: 0;left: 50%;z-index: 0;}#sk-container-id-2 div.sk-serial {display: flex;flex-direction: column;align-items: center;background-color: white;padding-right: 0.2em;padding-left: 0.2em;position: relative;}#sk-container-id-2 div.sk-item {position: relative;z-index: 1;}#sk-container-id-2 div.sk-parallel {display: flex;align-items: stretch;justify-content: center;background-color: white;position: relative;}#sk-container-id-2 div.sk-item::before, #sk-container-id-2 div.sk-parallel-item::before {content: \"\";position: absolute;border-left: 1px solid gray;box-sizing: border-box;top: 0;bottom: 0;left: 50%;z-index: -1;}#sk-container-id-2 div.sk-parallel-item {display: flex;flex-direction: column;z-index: 1;position: relative;background-color: white;}#sk-container-id-2 div.sk-parallel-item:first-child::after {align-self: flex-end;width: 50%;}#sk-container-id-2 div.sk-parallel-item:last-child::after {align-self: flex-start;width: 50%;}#sk-container-id-2 div.sk-parallel-item:only-child::after {width: 0;}#sk-container-id-2 div.sk-dashed-wrapped {border: 1px dashed gray;margin: 0 0.4em 0.5em 0.4em;box-sizing: border-box;padding-bottom: 0.4em;background-color: white;}#sk-container-id-2 div.sk-label label {font-family: monospace;font-weight: bold;display: inline-block;line-height: 1.2em;}#sk-container-id-2 div.sk-label-container {text-align: center;}#sk-container-id-2 div.sk-container {/* jupyter's `normalize.less` sets `[hidden] { display: none; }` but bootstrap.min.css set `[hidden] { display: none !important; }` so we also need the `!important` here to be able to override the default hidden behavior on the sphinx rendered scikit-learn.org. See: https://github.com/scikit-learn/scikit-learn/issues/21755 */display: inline-block !important;position: relative;}#sk-container-id-2 div.sk-text-repr-fallback {display: none;}</style><div id=\"sk-container-id-2\" class=\"sk-top-container\"><div class=\"sk-text-repr-fallback\"><pre>LogisticRegression(multi_class=&#x27;multinomial&#x27;, random_state=0)</pre><b>In a Jupyter environment, please rerun this cell to show the HTML representation or trust the notebook. <br />On GitHub, the HTML representation is unable to render, please try loading this page with nbviewer.org.</b></div><div class=\"sk-container\" hidden><div class=\"sk-item\"><div class=\"sk-estimator sk-toggleable\"><input class=\"sk-toggleable__control sk-hidden--visually\" id=\"sk-estimator-id-2\" type=\"checkbox\" checked><label for=\"sk-estimator-id-2\" class=\"sk-toggleable__label sk-toggleable__label-arrow\">LogisticRegression</label><div class=\"sk-toggleable__content\"><pre>LogisticRegression(multi_class=&#x27;multinomial&#x27;, random_state=0)</pre></div></div></div></div></div>"
      ],
      "text/plain": [
       "LogisticRegression(multi_class='multinomial', random_state=0)"
      ]
     },
     "execution_count": 54,
     "metadata": {},
     "output_type": "execute_result"
    }
   ],
   "source": [
    "# Import the logistic regression model from sklearn \n",
    "from sklearn.linear_model import LogisticRegression\n",
    "\n",
    "# Define the model\n",
    "model = LogisticRegression(random_state=0, solver='lbfgs',\n",
    "                            multi_class='multinomial')\n",
    "# Train model\n",
    "model.fit(train_data_features, y)"
   ]
  },
  {
   "cell_type": "code",
   "execution_count": 55,
   "id": "eb06cb49",
   "metadata": {
    "tags": []
   },
   "outputs": [],
   "source": [
    "from sklearn.model_selection import train_test_split\n",
    "X_train, X_test, y_train, y_test = train_test_split(train_data_features, y, test_size=0.2, random_state=42)"
   ]
  },
  {
   "cell_type": "code",
   "execution_count": 56,
   "id": "e3288cb1",
   "metadata": {
    "tags": []
   },
   "outputs": [
    {
     "name": "stdout",
     "output_type": "stream",
     "text": [
      "0.6666666666666666\n"
     ]
    }
   ],
   "source": [
    "from sklearn.ensemble import RandomForestClassifier\n",
    "# Initialize a Random Forest classifier with 500 trees\n",
    "forest = RandomForestClassifier(n_estimators = 500, max_depth = None, min_samples_split=2, min_samples_leaf =1,\n",
    "                                bootstrap = True, random_state=0)\n",
    "# Train the model\n",
    "forest = forest.fit(X_train, y_train)\n",
    "# Print score of model(using test dataset)\n",
    "print(forest.score(X_test, y_test))"
   ]
  },
  {
   "cell_type": "code",
   "execution_count": 57,
   "id": "22d875c1",
   "metadata": {
    "tags": []
   },
   "outputs": [
    {
     "name": "stdout",
     "output_type": "stream",
     "text": [
      "0.6190476190476191\n"
     ]
    }
   ],
   "source": [
    "logistic = LogisticRegression(random_state=0, solver='lbfgs',\n",
    "                            multi_class='multinomial')\n",
    "# Train the model\n",
    "logistic = logistic.fit(X_train, y_train)\n",
    "# Print score of model(using test dataset)\n",
    "print(logistic.score(X_test, y_test))"
   ]
  },
  {
   "cell_type": "code",
   "execution_count": 58,
   "id": "1cb53cd4",
   "metadata": {},
   "outputs": [],
   "source": [
    "import pickle\n",
    "import os\n",
    "\n",
    "pickle.dump(forest, open('model.pkl','wb'))\n",
    "pickle.dump(logistic,open('logistic_model.pkl','wb'))"
   ]
  },
  {
   "cell_type": "code",
   "execution_count": 59,
   "id": "fbe6e6d6-792b-49ee-b09d-cf3a7a070f57",
   "metadata": {
    "tags": []
   },
   "outputs": [
    {
     "data": {
      "text/plain": [
       "array([0], dtype=int64)"
      ]
     },
     "execution_count": 59,
     "metadata": {},
     "output_type": "execute_result"
    }
   ],
   "source": [
    "model = pickle.load(open('model.pkl','rb'))\n",
    "prediction = model.predict(X_train[0])\n",
    "prediction"
   ]
  },
  {
   "cell_type": "code",
   "execution_count": 60,
   "id": "99bb057f-c78c-4775-90df-19aa834ba0c1",
   "metadata": {
    "tags": []
   },
   "outputs": [
    {
     "data": {
      "text/plain": [
       "array([False])"
      ]
     },
     "execution_count": 60,
     "metadata": {},
     "output_type": "execute_result"
    }
   ],
   "source": [
    "prediction == 1"
   ]
  },
  {
   "cell_type": "code",
   "execution_count": null,
   "id": "8dade763-4136-4e79-9d34-f7c2430b8fe8",
   "metadata": {},
   "outputs": [],
   "source": []
  }
 ],
 "metadata": {
  "kernelspec": {
   "display_name": "Python 3 (ipykernel)",
   "language": "python",
   "name": "python3"
  },
  "language_info": {
   "codemirror_mode": {
    "name": "ipython",
    "version": 3
   },
   "file_extension": ".py",
   "mimetype": "text/x-python",
   "name": "python",
   "nbconvert_exporter": "python",
   "pygments_lexer": "ipython3",
   "version": "3.11.2"
  }
 },
 "nbformat": 4,
 "nbformat_minor": 5
}
